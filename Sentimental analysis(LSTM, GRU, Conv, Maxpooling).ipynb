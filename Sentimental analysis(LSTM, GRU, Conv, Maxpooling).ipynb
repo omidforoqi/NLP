{
 "cells": [
  {
   "cell_type": "code",
   "execution_count": 19,
   "metadata": {},
   "outputs": [],
   "source": [
    "from tensorflow.keras.preprocessing.text import Tokenizer\n",
    "from tensorflow.keras.layers import GRU, LSTM, Dense, Embedding, Dropout, Conv1D, MaxPooling1D, Flatten\n",
    "from tensorflow.keras.callbacks import EarlyStopping\n",
    "from tensorflow.keras.preprocessing.sequence import pad_sequences\n",
    "from tensorflow.keras.datasets import imdb\n",
    "from tensorflow.keras import Sequential\n",
    "from tensorflow.keras.optimizers import Adam\n",
    "from scipy.spatial.distance import cdist\n",
    "import numpy as np"
   ]
  },
  {
   "cell_type": "code",
   "execution_count": 2,
   "metadata": {},
   "outputs": [],
   "source": [
    "num_words = 20000\n",
    "(X_train, y_train), (X_test, y_test) = imdb.load_data(num_words=num_words)"
   ]
  },
  {
   "cell_type": "code",
   "execution_count": 4,
   "metadata": {},
   "outputs": [],
   "source": [
    "max_len = 256\n",
    "embedding_size = 10\n",
    "batch_size = 128\n",
    "n_epochs = 10\n",
    "pad_type = 'pre'"
   ]
  },
  {
   "cell_type": "code",
   "execution_count": 5,
   "metadata": {},
   "outputs": [],
   "source": [
    "X_train_pad = pad_sequences(X_train,\n",
    "                            maxlen=max_len,\n",
    "                            padding=pad_type,\n",
    "                            truncating=pad_type)\n",
    "X_test_pad = pad_sequences(X_test,\n",
    "                            maxlen=max_len,\n",
    "                            padding=pad_type,\n",
    "                            truncating=pad_type)"
   ]
  },
  {
   "cell_type": "code",
   "execution_count": 5,
   "metadata": {},
   "outputs": [],
   "source": [
    "model = Sequential()"
   ]
  },
  {
   "cell_type": "code",
   "execution_count": 6,
   "metadata": {},
   "outputs": [],
   "source": [
    "model.add(Embedding(input_dim=num_words,\n",
    "                   output_dim=embedding_size,\n",
    "                   input_length=max_len,\n",
    "                   name='layer_embedding',))"
   ]
  },
  {
   "cell_type": "code",
   "execution_count": 7,
   "metadata": {},
   "outputs": [],
   "source": [
    "model.add(Dropout(0.3))"
   ]
  },
  {
   "cell_type": "code",
   "execution_count": 8,
   "metadata": {},
   "outputs": [],
   "source": [
    "model.add(LSTM(128, return_sequences=False))"
   ]
  },
  {
   "cell_type": "code",
   "execution_count": 9,
   "metadata": {},
   "outputs": [],
   "source": [
    "model.add(Dropout(0.3))"
   ]
  },
  {
   "cell_type": "code",
   "execution_count": 10,
   "metadata": {},
   "outputs": [],
   "source": [
    "model.add(Dense(1, activation='sigmoid', name='classification'))"
   ]
  },
  {
   "cell_type": "code",
   "execution_count": 11,
   "metadata": {},
   "outputs": [
    {
     "name": "stdout",
     "output_type": "stream",
     "text": [
      "Model: \"sequential\"\n",
      "_________________________________________________________________\n",
      "Layer (type)                 Output Shape              Param #   \n",
      "=================================================================\n",
      "layer_embedding (Embedding)  (None, 256, 10)           200000    \n",
      "_________________________________________________________________\n",
      "dropout (Dropout)            (None, 256, 10)           0         \n",
      "_________________________________________________________________\n",
      "lstm (LSTM)                  (None, 128)               71168     \n",
      "_________________________________________________________________\n",
      "dropout_1 (Dropout)          (None, 128)               0         \n",
      "_________________________________________________________________\n",
      "classification (Dense)       (None, 1)                 129       \n",
      "=================================================================\n",
      "Total params: 271,297\n",
      "Trainable params: 271,297\n",
      "Non-trainable params: 0\n",
      "_________________________________________________________________\n"
     ]
    }
   ],
   "source": [
    "model.summary()"
   ]
  },
  {
   "cell_type": "code",
   "execution_count": 12,
   "metadata": {},
   "outputs": [],
   "source": [
    "model.compile(optimizer='adam', loss='binary_crossentropy', metrics=['acc'])"
   ]
  },
  {
   "cell_type": "code",
   "execution_count": 13,
   "metadata": {},
   "outputs": [],
   "source": [
    "callback_early_stopping = EarlyStopping(monitor='val_loss', patience=5, verbose=1)"
   ]
  },
  {
   "cell_type": "code",
   "execution_count": 14,
   "metadata": {},
   "outputs": [
    {
     "name": "stdout",
     "output_type": "stream",
     "text": [
      "Epoch 1/10\n",
      "186/186 [==============================] - 82s 440ms/step - loss: 0.5752 - acc: 0.6892 - val_loss: 0.4830 - val_acc: 0.7912\n",
      "Epoch 2/10\n",
      "186/186 [==============================] - 78s 420ms/step - loss: 0.3239 - acc: 0.8656 - val_loss: 0.3344 - val_acc: 0.8576\n",
      "Epoch 3/10\n",
      "186/186 [==============================] - 80s 432ms/step - loss: 0.2388 - acc: 0.9089 - val_loss: 0.3412 - val_acc: 0.8712\n",
      "Epoch 4/10\n",
      "186/186 [==============================] - 77s 412ms/step - loss: 0.1824 - acc: 0.9331 - val_loss: 0.3437 - val_acc: 0.8592\n",
      "Epoch 5/10\n",
      "186/186 [==============================] - 80s 430ms/step - loss: 0.1489 - acc: 0.9481 - val_loss: 0.3486 - val_acc: 0.8600\n",
      "Epoch 6/10\n",
      "186/186 [==============================] - 84s 449ms/step - loss: 0.1228 - acc: 0.9582 - val_loss: 0.3603 - val_acc: 0.8584\n",
      "Epoch 7/10\n",
      "186/186 [==============================] - 83s 448ms/step - loss: 0.1106 - acc: 0.9613 - val_loss: 0.4107 - val_acc: 0.8696\n",
      "Epoch 00007: early stopping\n",
      "Wall time: 9min 28s\n"
     ]
    },
    {
     "data": {
      "text/plain": [
       "<tensorflow.python.keras.callbacks.History at 0x199f49ba7f0>"
      ]
     },
     "execution_count": 14,
     "metadata": {},
     "output_type": "execute_result"
    }
   ],
   "source": [
    "%%time\n",
    "model.fit(X_train_pad, y_train,\n",
    "          epochs=n_epochs,\n",
    "          batch_size=batch_size, \n",
    "          validation_split=0.05,\n",
    "          callbacks=[callback_early_stopping]\n",
    "         )"
   ]
  },
  {
   "cell_type": "code",
   "execution_count": 15,
   "metadata": {},
   "outputs": [
    {
     "name": "stdout",
     "output_type": "stream",
     "text": [
      "782/782 [==============================] - 40s 52ms/step - loss: 0.4291 - acc: 0.8589\n",
      "Wall time: 40.4 s\n"
     ]
    }
   ],
   "source": [
    "%%time\n",
    "eval_model = model.evaluate(X_test_pad, y_test)"
   ]
  },
  {
   "cell_type": "code",
   "execution_count": 16,
   "metadata": {},
   "outputs": [
    {
     "name": "stdout",
     "output_type": "stream",
     "text": [
      "Loss: 0.42911\n",
      "Accuracy: 85.89%\n"
     ]
    }
   ],
   "source": [
    "print(\"Loss: {0:.5}\".format(eval_model[0]))\n",
    "print(\"Accuracy: {0:.2%}\".format(eval_model[1]))"
   ]
  },
  {
   "cell_type": "code",
   "execution_count": 17,
   "metadata": {},
   "outputs": [],
   "source": [
    "#gru model\n",
    "model_GRU = Sequential()"
   ]
  },
  {
   "cell_type": "code",
   "execution_count": 18,
   "metadata": {},
   "outputs": [],
   "source": [
    "model_GRU.add(Embedding(input_dim=num_words,\n",
    "                       output_dim=embedding_size,\n",
    "                       input_length=max_len,\n",
    "                       name='layer_embedding'))"
   ]
  },
  {
   "cell_type": "code",
   "execution_count": 19,
   "metadata": {},
   "outputs": [],
   "source": [
    "model_GRU.add(GRU(units=16, return_sequences=True))"
   ]
  },
  {
   "cell_type": "code",
   "execution_count": 20,
   "metadata": {},
   "outputs": [],
   "source": [
    "model_GRU.add(GRU(units=8, return_sequences=True))"
   ]
  },
  {
   "cell_type": "code",
   "execution_count": 21,
   "metadata": {},
   "outputs": [],
   "source": [
    "model_GRU.add(GRU(units=4, return_sequences=False))"
   ]
  },
  {
   "cell_type": "code",
   "execution_count": 22,
   "metadata": {},
   "outputs": [],
   "source": [
    "model_GRU.add(Dense(1, activation='sigmoid'))"
   ]
  },
  {
   "cell_type": "code",
   "execution_count": 23,
   "metadata": {
    "scrolled": true
   },
   "outputs": [
    {
     "name": "stdout",
     "output_type": "stream",
     "text": [
      "Model: \"sequential_1\"\n",
      "_________________________________________________________________\n",
      "Layer (type)                 Output Shape              Param #   \n",
      "=================================================================\n",
      "layer_embedding (Embedding)  (None, 256, 10)           200000    \n",
      "_________________________________________________________________\n",
      "gru (GRU)                    (None, 256, 16)           1344      \n",
      "_________________________________________________________________\n",
      "gru_1 (GRU)                  (None, 256, 8)            624       \n",
      "_________________________________________________________________\n",
      "gru_2 (GRU)                  (None, 4)                 168       \n",
      "_________________________________________________________________\n",
      "dense (Dense)                (None, 1)                 5         \n",
      "=================================================================\n",
      "Total params: 202,141\n",
      "Trainable params: 202,141\n",
      "Non-trainable params: 0\n",
      "_________________________________________________________________\n"
     ]
    }
   ],
   "source": [
    "model_GRU.summary()"
   ]
  },
  {
   "cell_type": "code",
   "execution_count": 24,
   "metadata": {},
   "outputs": [],
   "source": [
    "model_GRU.compile(loss='binary_crossentropy', optimizer='rmsprop', metrics=['accuracy'])"
   ]
  },
  {
   "cell_type": "code",
   "execution_count": 25,
   "metadata": {},
   "outputs": [
    {
     "name": "stdout",
     "output_type": "stream",
     "text": [
      "Epoch 1/10\n",
      "186/186 [==============================] - 36s 195ms/step - loss: 0.5398 - accuracy: 0.7138 - val_loss: 0.6166 - val_accuracy: 0.7256\n",
      "Epoch 2/10\n",
      "186/186 [==============================] - 33s 180ms/step - loss: 0.3186 - accuracy: 0.8677 - val_loss: 0.3089 - val_accuracy: 0.8760\n",
      "Epoch 3/10\n",
      "186/186 [==============================] - 34s 182ms/step - loss: 0.2445 - accuracy: 0.9055 - val_loss: 0.4396 - val_accuracy: 0.8344\n",
      "Epoch 4/10\n",
      "186/186 [==============================] - 33s 180ms/step - loss: 0.2035 - accuracy: 0.9243 - val_loss: 0.3030 - val_accuracy: 0.8840\n",
      "Epoch 5/10\n",
      "186/186 [==============================] - 34s 182ms/step - loss: 0.1690 - accuracy: 0.9394 - val_loss: 0.4618 - val_accuracy: 0.8424\n",
      "Epoch 6/10\n",
      "186/186 [==============================] - 34s 183ms/step - loss: 0.1511 - accuracy: 0.9467 - val_loss: 0.4156 - val_accuracy: 0.8504\n",
      "Epoch 7/10\n",
      "186/186 [==============================] - 35s 187ms/step - loss: 0.1278 - accuracy: 0.9557 - val_loss: 0.3596 - val_accuracy: 0.8672\n",
      "Epoch 8/10\n",
      "186/186 [==============================] - 34s 182ms/step - loss: 0.1121 - accuracy: 0.9628 - val_loss: 0.3470 - val_accuracy: 0.8744\n",
      "Epoch 9/10\n",
      "186/186 [==============================] - 35s 188ms/step - loss: 0.0984 - accuracy: 0.9669 - val_loss: 0.3829 - val_accuracy: 0.8744\n",
      "Epoch 10/10\n",
      "186/186 [==============================] - 34s 183ms/step - loss: 0.0886 - accuracy: 0.9717 - val_loss: 0.3786 - val_accuracy: 0.8776\n",
      "Wall time: 5min 50s\n"
     ]
    },
    {
     "data": {
      "text/plain": [
       "<tensorflow.python.keras.callbacks.History at 0x1998cb37e80>"
      ]
     },
     "execution_count": 25,
     "metadata": {},
     "output_type": "execute_result"
    }
   ],
   "source": [
    "%%time\n",
    "model_GRU.fit(X_train_pad, y_train, validation_split=0.05, epochs=n_epochs, batch_size=batch_size)"
   ]
  },
  {
   "cell_type": "code",
   "execution_count": 26,
   "metadata": {},
   "outputs": [
    {
     "name": "stdout",
     "output_type": "stream",
     "text": [
      "782/782 [==============================] - 22s 28ms/step - loss: 0.4162 - accuracy: 0.8624\n",
      "Wall time: 21.9 s\n"
     ]
    }
   ],
   "source": [
    "%%time\n",
    "eval_GRU = model_GRU.evaluate(X_test_pad, y_test)"
   ]
  },
  {
   "cell_type": "code",
   "execution_count": 27,
   "metadata": {},
   "outputs": [
    {
     "name": "stdout",
     "output_type": "stream",
     "text": [
      "Loss: 0.41615\n",
      "Accuracy: 86.24%\n"
     ]
    }
   ],
   "source": [
    "print(\"Loss: {0:.5}\".format(eval_GRU[0]))\n",
    "print(\"Accuracy: {0:.2%}\".format(eval_GRU[1]))"
   ]
  },
  {
   "cell_type": "code",
   "execution_count": 34,
   "metadata": {},
   "outputs": [],
   "source": [
    "word_index = imdb.get_word_index()\n",
    "reverse_word_index = dict([(value, key) for (key, value) in word_index.items()])\n",
    "def print_similar_words(word, metric='cosine'):\n",
    "    \n",
    "    token = word_index.get(word)\n",
    "\n",
    "    embedding = weights_embedding[token]\n",
    "\n",
    "    distances = cdist(weights_embedding, [embedding],\n",
    "                      metric=metric).T[0]\n",
    "    \n",
    "    sorted_index = np.argsort(distances)\n",
    "    \n",
    "    sorted_distances = distances[sorted_index]\n",
    "    \n",
    "    sorted_words = [reverse_word_index[token] for token in sorted_index\n",
    "                    if token != 0]\n",
    "\n",
    "    def print_words(words, distances):\n",
    "        for word, distance in zip(words, distances):\n",
    "            print(\"{0:.3f} - {1}\".format(distance, word))\n",
    "\n",
    "    N = 10\n",
    "\n",
    "    print(\"Distance from '{0}':\".format(word))\n",
    "\n",
    "    print_words(sorted_words[0:N], sorted_distances[0:N])\n",
    "\n",
    "    print(\"-------\")\n",
    "\n",
    "    print_words(sorted_words[-N:], sorted_distances[-N:])"
   ]
  },
  {
   "cell_type": "code",
   "execution_count": 30,
   "metadata": {},
   "outputs": [],
   "source": [
    "layer_embedding = model.get_layer('layer_embedding')\n",
    "weights_embedding = layer_embedding.get_weights()[0]"
   ]
  },
  {
   "cell_type": "code",
   "execution_count": 35,
   "metadata": {},
   "outputs": [
    {
     "name": "stdout",
     "output_type": "stream",
     "text": [
      "Distance from 'good':\n",
      "0.000 - good\n",
      "0.073 - horrendously\n",
      "0.093 - mobster\n",
      "0.129 - sex\n",
      "0.135 - within\n",
      "0.153 - energy\n",
      "0.155 - makers\n",
      "0.157 - coming\n",
      "0.170 - sticky\n",
      "0.173 - payed\n",
      "-------\n",
      "1.838 - importantly\n",
      "1.846 - afternoon\n",
      "1.848 - whim\n",
      "1.848 - andrew\n",
      "1.849 - via\n",
      "1.852 - thinks\n",
      "1.853 - settling\n",
      "1.885 - savage\n",
      "1.888 - scenes\n",
      "1.903 - threats\n"
     ]
    }
   ],
   "source": [
    "print_similar_words('good', metric='cosine')"
   ]
  },
  {
   "cell_type": "code",
   "execution_count": 7,
   "metadata": {},
   "outputs": [],
   "source": [
    "model_Conv_one = Sequential()"
   ]
  },
  {
   "cell_type": "code",
   "execution_count": 8,
   "metadata": {},
   "outputs": [],
   "source": [
    "model_Conv_one.add(Embedding(input_dim=num_words,\n",
    "                    output_dim=embedding_size,\n",
    "                    input_length=max_len,\n",
    "                    name='layer_embedding'))"
   ]
  },
  {
   "cell_type": "code",
   "execution_count": 10,
   "metadata": {},
   "outputs": [],
   "source": [
    "model_Conv_one.add(Conv1D(filters=128, kernel_size=3, padding='same', activation='relu'))"
   ]
  },
  {
   "cell_type": "code",
   "execution_count": 11,
   "metadata": {},
   "outputs": [],
   "source": [
    "model_Conv_one.add(MaxPooling1D(pool_size=2))"
   ]
  },
  {
   "cell_type": "code",
   "execution_count": 12,
   "metadata": {},
   "outputs": [],
   "source": [
    "model_Conv_one.add(Conv1D(filters=128, kernel_size=3, padding='same', activation='relu'))"
   ]
  },
  {
   "cell_type": "code",
   "execution_count": 13,
   "metadata": {},
   "outputs": [],
   "source": [
    "model_Conv_one.add(MaxPooling1D(pool_size=2))"
   ]
  },
  {
   "cell_type": "code",
   "execution_count": 14,
   "metadata": {},
   "outputs": [],
   "source": [
    "model_Conv_one.add(Conv1D(filters=128, kernel_size=3, padding='same', activation='relu'))"
   ]
  },
  {
   "cell_type": "code",
   "execution_count": 15,
   "metadata": {},
   "outputs": [],
   "source": [
    "model_Conv_one.add(MaxPooling1D(pool_size=2))"
   ]
  },
  {
   "cell_type": "code",
   "execution_count": 17,
   "metadata": {},
   "outputs": [],
   "source": [
    "model_Conv_one.add(Dropout(0.5))"
   ]
  },
  {
   "cell_type": "code",
   "execution_count": 20,
   "metadata": {},
   "outputs": [],
   "source": [
    "model_Conv_one.add(Flatten())"
   ]
  },
  {
   "cell_type": "code",
   "execution_count": 22,
   "metadata": {},
   "outputs": [],
   "source": [
    "model_Conv_one.add(Dense(250, activation='relu'))"
   ]
  },
  {
   "cell_type": "code",
   "execution_count": 23,
   "metadata": {},
   "outputs": [],
   "source": [
    "model_Conv_one.add(Dense(1, activation='sigmoid', name='classification'))"
   ]
  },
  {
   "cell_type": "code",
   "execution_count": 25,
   "metadata": {},
   "outputs": [],
   "source": [
    "model_Conv_one.compile(optimizer='rmsprop', loss='binary_crossentropy', metrics=['accuracy'])"
   ]
  },
  {
   "cell_type": "code",
   "execution_count": 26,
   "metadata": {},
   "outputs": [
    {
     "name": "stdout",
     "output_type": "stream",
     "text": [
      "Model: \"sequential_1\"\n",
      "_________________________________________________________________\n",
      "Layer (type)                 Output Shape              Param #   \n",
      "=================================================================\n",
      "layer_embedding (Embedding)  (None, 256, 10)           200000    \n",
      "_________________________________________________________________\n",
      "conv1d (Conv1D)              (None, 256, 128)          3968      \n",
      "_________________________________________________________________\n",
      "max_pooling1d (MaxPooling1D) (None, 128, 128)          0         \n",
      "_________________________________________________________________\n",
      "conv1d_1 (Conv1D)            (None, 128, 128)          49280     \n",
      "_________________________________________________________________\n",
      "max_pooling1d_1 (MaxPooling1 (None, 64, 128)           0         \n",
      "_________________________________________________________________\n",
      "conv1d_2 (Conv1D)            (None, 64, 128)           49280     \n",
      "_________________________________________________________________\n",
      "max_pooling1d_2 (MaxPooling1 (None, 32, 128)           0         \n",
      "_________________________________________________________________\n",
      "dropout (Dropout)            (None, 32, 128)           0         \n",
      "_________________________________________________________________\n",
      "flatten (Flatten)            (None, 4096)              0         \n",
      "_________________________________________________________________\n",
      "dense (Dense)                (None, 250)               1024250   \n",
      "_________________________________________________________________\n",
      "classification (Dense)       (None, 1)                 251       \n",
      "=================================================================\n",
      "Total params: 1,327,029\n",
      "Trainable params: 1,327,029\n",
      "Non-trainable params: 0\n",
      "_________________________________________________________________\n"
     ]
    }
   ],
   "source": [
    "model_Conv_one.summary()"
   ]
  },
  {
   "cell_type": "code",
   "execution_count": 28,
   "metadata": {},
   "outputs": [
    {
     "name": "stdout",
     "output_type": "stream",
     "text": [
      "Epoch 1/10\n",
      "186/186 [==============================] - 36s 196ms/step - loss: 0.5485 - accuracy: 0.6910 - val_loss: 0.3232 - val_accuracy: 0.8704\n",
      "Epoch 2/10\n",
      "186/186 [==============================] - 39s 212ms/step - loss: 0.2932 - accuracy: 0.8813 - val_loss: 0.2845 - val_accuracy: 0.8880\n",
      "Epoch 3/10\n",
      "186/186 [==============================] - 37s 198ms/step - loss: 0.2153 - accuracy: 0.9164 - val_loss: 0.2916 - val_accuracy: 0.8840\n",
      "Epoch 4/10\n",
      "186/186 [==============================] - 34s 180ms/step - loss: 0.1732 - accuracy: 0.9347 - val_loss: 0.3145 - val_accuracy: 0.8912\n",
      "Epoch 5/10\n",
      "186/186 [==============================] - 34s 181ms/step - loss: 0.1383 - accuracy: 0.9498 - val_loss: 0.3123 - val_accuracy: 0.8856\n",
      "Epoch 6/10\n",
      "186/186 [==============================] - 34s 180ms/step - loss: 0.1104 - accuracy: 0.9603 - val_loss: 0.3559 - val_accuracy: 0.8896\n",
      "Epoch 7/10\n",
      "186/186 [==============================] - 34s 183ms/step - loss: 0.0911 - accuracy: 0.9673 - val_loss: 0.4031 - val_accuracy: 0.8816\n",
      "Epoch 8/10\n",
      "186/186 [==============================] - 34s 181ms/step - loss: 0.0737 - accuracy: 0.9744 - val_loss: 0.5809 - val_accuracy: 0.8568\n",
      "Epoch 9/10\n",
      "186/186 [==============================] - 34s 181ms/step - loss: 0.0612 - accuracy: 0.9797 - val_loss: 0.6967 - val_accuracy: 0.8480\n",
      "Epoch 10/10\n",
      "186/186 [==============================] - 34s 181ms/step - loss: 0.0517 - accuracy: 0.9835 - val_loss: 0.4723 - val_accuracy: 0.8824\n",
      "Wall time: 5min 51s\n"
     ]
    },
    {
     "data": {
      "text/plain": [
       "<tensorflow.python.keras.callbacks.History at 0x2b58ecfdcd0>"
      ]
     },
     "execution_count": 28,
     "metadata": {},
     "output_type": "execute_result"
    }
   ],
   "source": [
    "%%time\n",
    "model_Conv_one.fit(X_train_pad, y_train, validation_split=0.05, epochs=10, batch_size=batch_size)"
   ]
  },
  {
   "cell_type": "code",
   "execution_count": 29,
   "metadata": {},
   "outputs": [
    {
     "name": "stdout",
     "output_type": "stream",
     "text": [
      "782/782 [==============================] - 11s 14ms/step - loss: 0.5192 - accuracy: 0.8599\n",
      "Wall time: 10.8 s\n"
     ]
    }
   ],
   "source": [
    "%%time\n",
    "eval_Conv_one = model_Conv_one.evaluate(X_test_pad, y_test)"
   ]
  },
  {
   "cell_type": "code",
   "execution_count": 30,
   "metadata": {},
   "outputs": [
    {
     "name": "stdout",
     "output_type": "stream",
     "text": [
      "Loss: 0.5192\n",
      "Accuracy: 85.99%\n"
     ]
    }
   ],
   "source": [
    "print(\"Loss: {0:.5}\".format(eval_Conv_one[0]))\n",
    "print(\"Accuracy: {0:.2%}\".format(eval_Conv_one[1]))"
   ]
  },
  {
   "cell_type": "code",
   "execution_count": 31,
   "metadata": {},
   "outputs": [],
   "source": [
    "model_Conv_two = Sequential()"
   ]
  },
  {
   "cell_type": "code",
   "execution_count": 33,
   "metadata": {},
   "outputs": [],
   "source": [
    "model_Conv_two.add(Embedding(input_dim=num_words,\n",
    "                    output_dim=embedding_size,\n",
    "                    input_length=max_len,\n",
    "                    name='layer_embedding'))"
   ]
  },
  {
   "cell_type": "code",
   "execution_count": 34,
   "metadata": {},
   "outputs": [],
   "source": [
    "model_Conv_two.add(Conv1D(filters=128, kernel_size=5, padding='same', activation='relu'))"
   ]
  },
  {
   "cell_type": "code",
   "execution_count": 36,
   "metadata": {},
   "outputs": [],
   "source": [
    "model_Conv_two.add(MaxPooling1D(pool_size=3))"
   ]
  },
  {
   "cell_type": "code",
   "execution_count": 37,
   "metadata": {},
   "outputs": [],
   "source": [
    "model_Conv_two.add(LSTM(128))"
   ]
  },
  {
   "cell_type": "code",
   "execution_count": 38,
   "metadata": {},
   "outputs": [],
   "source": [
    "model_Conv_two.add(Dropout(0.3))"
   ]
  },
  {
   "cell_type": "code",
   "execution_count": 39,
   "metadata": {},
   "outputs": [],
   "source": [
    "model_Conv_two.add(Dense(1, activation='sigmoid', name='classification'))"
   ]
  },
  {
   "cell_type": "code",
   "execution_count": 41,
   "metadata": {},
   "outputs": [],
   "source": [
    "model_Conv_two.compile(optimizer='rmsprop', loss='binary_crossentropy', metrics=['accuracy'])"
   ]
  },
  {
   "cell_type": "code",
   "execution_count": 42,
   "metadata": {},
   "outputs": [
    {
     "name": "stdout",
     "output_type": "stream",
     "text": [
      "Epoch 1/10\n",
      "186/186 [==============================] - 47s 255ms/step - loss: 0.4984 - accuracy: 0.7520 - val_loss: 0.3343 - val_accuracy: 0.8648\n",
      "Epoch 2/10\n",
      "186/186 [==============================] - 45s 243ms/step - loss: 0.2735 - accuracy: 0.8923 - val_loss: 0.3063 - val_accuracy: 0.8752\n",
      "Epoch 3/10\n",
      "186/186 [==============================] - 42s 227ms/step - loss: 0.2088 - accuracy: 0.9208 - val_loss: 0.3128 - val_accuracy: 0.8896\n",
      "Epoch 4/10\n",
      "186/186 [==============================] - 44s 237ms/step - loss: 0.1710 - accuracy: 0.9377 - val_loss: 0.3855 - val_accuracy: 0.8528\n",
      "Epoch 5/10\n",
      "186/186 [==============================] - 44s 236ms/step - loss: 0.1452 - accuracy: 0.9473 - val_loss: 0.3126 - val_accuracy: 0.8784\n",
      "Epoch 6/10\n",
      "186/186 [==============================] - 48s 258ms/step - loss: 0.1228 - accuracy: 0.9578 - val_loss: 0.3494 - val_accuracy: 0.8776\n",
      "Epoch 7/10\n",
      "186/186 [==============================] - 47s 250ms/step - loss: 0.1059 - accuracy: 0.9634 - val_loss: 0.3290 - val_accuracy: 0.8872\n",
      "Epoch 8/10\n",
      "186/186 [==============================] - 45s 241ms/step - loss: 0.0889 - accuracy: 0.9697 - val_loss: 0.3800 - val_accuracy: 0.8824\n",
      "Epoch 9/10\n",
      "186/186 [==============================] - 43s 233ms/step - loss: 0.0757 - accuracy: 0.9747 - val_loss: 0.4115 - val_accuracy: 0.8752\n",
      "Epoch 10/10\n",
      "186/186 [==============================] - 43s 230ms/step - loss: 0.0688 - accuracy: 0.9776 - val_loss: 0.4038 - val_accuracy: 0.8800\n"
     ]
    },
    {
     "data": {
      "text/plain": [
       "<tensorflow.python.keras.callbacks.History at 0x2b58fd5b040>"
      ]
     },
     "execution_count": 42,
     "metadata": {},
     "output_type": "execute_result"
    }
   ],
   "source": [
    "model_Conv_two.fit(X_train_pad, y_train, validation_split=0.05, epochs=10, batch_size=batch_size)"
   ]
  },
  {
   "cell_type": "code",
   "execution_count": 43,
   "metadata": {},
   "outputs": [
    {
     "name": "stdout",
     "output_type": "stream",
     "text": [
      "782/782 [==============================] - 20s 26ms/step - loss: 0.4359 - accuracy: 0.8597\n"
     ]
    }
   ],
   "source": [
    "eval_Conv_two = model_Conv_two.evaluate(X_test_pad, y_test)"
   ]
  },
  {
   "cell_type": "code",
   "execution_count": 44,
   "metadata": {},
   "outputs": [
    {
     "name": "stdout",
     "output_type": "stream",
     "text": [
      "Loss: 0.43592\n",
      "Accuracy: 85.97%\n"
     ]
    }
   ],
   "source": [
    "print(\"Loss: {0:.5}\".format(eval_Conv_two[0]))\n",
    "print(\"Accuracy: {0:.2%}\".format(eval_Conv_two[1]))"
   ]
  },
  {
   "cell_type": "code",
   "execution_count": null,
   "metadata": {},
   "outputs": [],
   "source": []
  }
 ],
 "metadata": {
  "kernelspec": {
   "display_name": "Python 3",
   "language": "python",
   "name": "python3"
  },
  "language_info": {
   "codemirror_mode": {
    "name": "ipython",
    "version": 3
   },
   "file_extension": ".py",
   "mimetype": "text/x-python",
   "name": "python",
   "nbconvert_exporter": "python",
   "pygments_lexer": "ipython3",
   "version": "3.8.3"
  }
 },
 "nbformat": 4,
 "nbformat_minor": 4
}
